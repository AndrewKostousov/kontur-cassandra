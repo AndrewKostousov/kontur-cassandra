{
 "cells": [
  {
   "cell_type": "code",
   "execution_count": null,
   "metadata": {
    "collapsed": false,
    "deletable": true,
    "editable": true
   },
   "outputs": [],
   "source": [
    "import numpy as np\n",
    "import matplotlib.pylab as plt\n",
    "\n",
    "%matplotlib inline\n",
    "\n",
    "benchmarks_data_dir = 'TimeSeries\\\\Benchmarks\\\\bin\\\\Debug\\\\Raw data'"
   ]
  },
  {
   "cell_type": "code",
   "execution_count": null,
   "metadata": {
    "collapsed": false
   },
   "outputs": [],
   "source": [
    "import os\n",
    "\n",
    "fixtures = os.listdir(benchmarks_data_dir)\n",
    "\n",
    "print(\"Found fixtures:\\n\" if fixtures else \"No fixtures were found\")\n",
    "\n",
    "for index, fixture in enumerate(fixtures):\n",
    "    print(\"{}). {}\".format(index, fixture))"
   ]
  },
  {
   "cell_type": "code",
   "execution_count": null,
   "metadata": {
    "collapsed": false
   },
   "outputs": [],
   "source": [
    "import json\n",
    "\n",
    "\n",
    "def load_json(path):\n",
    "    with open(path, 'r') as f:\n",
    "        return json.load(f)\n",
    "\n",
    "    \n",
    "def load(fixture):\n",
    "    fixture_dir = os.path.join(output_dir, fixture)\n",
    "    \n",
    "    get_filename = lambda x: os.path.splitext(x)[0]\n",
    "    load_data = lambda x: load_json(os.path.join(fixture_dir, x))\n",
    "    \n",
    "    return {\n",
    "        get_filename(benchmark): load_data(benchmark)        \n",
    "        for benchmark in os.listdir(fixture_dir)\n",
    "    }\n",
    "\n",
    "\n",
    "fixtures = {\n",
    "    fixture: load(fixture) for fixture in fixtures\n",
    "}\n",
    "\n",
    "print(\"Loaded data for {} fixtures with {} benchmarks\".format(len(fixtures), sum(len(x) for x in fixtures.values())))\n",
    "\n",
    "print(\"\\nFixtures are:\\n\")\n",
    "\n",
    "for fixture in fixtures.keys():\n",
    "    print(fixture)"
   ]
  },
  {
   "cell_type": "code",
   "execution_count": null,
   "metadata": {
    "collapsed": false
   },
   "outputs": [],
   "source": [
    "def get_total(timing, operations):\n",
    "    \n",
    "    new_data = np.zeros((2, len(timing)), dtype=int)\n",
    "    \n",
    "    total_time = 0\n",
    "    total_count = 0\n",
    "    \n",
    "    for index, (time, count) in enumerate(zip(timing, operations)):\n",
    "        total_time += time\n",
    "        total_count += count\n",
    "        \n",
    "        new_data[0][index] = total_time\n",
    "        new_data[1][index] = total_count\n",
    "        \n",
    "    return new_data\n",
    "\n",
    "\n",
    "for fixture, benchmarks in fixtures.items():\n",
    "    for benchmark, data in benchmarks.items():\n",
    "        \n",
    "        writers_data = data['Writers']\n",
    "        \n",
    "        if not writers_data['Latency']: \n",
    "            continue\n",
    "            \n",
    "        writers_data['Total'] = []\n",
    "        \n",
    "        for worker in zip(writers_data['Latency'], writers_data['WritesLength']):\n",
    "            writers_data['Total'].append(get_total(*worker))"
   ]
  },
  {
   "cell_type": "code",
   "execution_count": null,
   "metadata": {
    "collapsed": false
   },
   "outputs": [],
   "source": [
    "b = ['Read and write', 'Write only']\n",
    "\n",
    "figure, subplots = plt.subplots(len(b), 1)\n",
    "\n",
    "figure.set_figheight(20)\n",
    "figure.set_figwidth(20)\n",
    "\n",
    "for benchmark, subplot in zip(b, subplots):\n",
    "    \n",
    "    legend = []\n",
    "\n",
    "    for fixture, benchmarks in fixtures.items():    \n",
    "        total = benchmarks[benchmark]['Writers']['Total']\n",
    "\n",
    "        if total:\n",
    "            worker = total[0]\n",
    "            subplot.plot(worker[0], worker[1])\n",
    "            legend.append(fixture)\n",
    "\n",
    "    subplot.set_title(benchmark, fontsize=20)\n",
    "    subplot.legend(legend)\n",
    "    subplot.axes.set_xlabel(\"Time\")\n",
    "    subplot.axes.set_ylabel(\"Events written\")"
   ]
  },
  {
   "cell_type": "code",
   "execution_count": null,
   "metadata": {
    "collapsed": false,
    "deletable": true,
    "editable": true
   },
   "outputs": [],
   "source": [
    "def plot(workers_stats, title=None):\n",
    "    show(workers_stats, title, lambda p, w: p.plot(w))\n",
    "\n",
    "\n",
    "def hist(workers_stats, title=None, nbeans=500):    \n",
    "    show(workers_stats, title, lambda p, w: p.hist(w, nbeans))\n",
    "    \n",
    "\n",
    "def show(workers_stats, title, show_func):\n",
    "    figure, subplots = plt.subplots(len(workers_stats), 1)\n",
    "\n",
    "    figure.set_figheight(20)\n",
    "    figure.set_figwidth(20)\n",
    "    \n",
    "    if title:\n",
    "        figure.suptitle(title, fontsize=18, y=0.94)\n",
    "    \n",
    "    if not hasattr(workers_stats, '__iter__'):\n",
    "        workers_stats = [workers_stats]\n",
    "        \n",
    "    if not hasattr(subplots, '__iter__'):\n",
    "        subplots = [subplots]\n",
    "    \n",
    "    for index, (worker, plot) in enumerate(zip(workers_stats, subplots)):\n",
    "        show_func(plot, worker)\n",
    "        plot.legend([\"Worker #{}\".format(index)])"
   ]
  },
  {
   "cell_type": "code",
   "execution_count": null,
   "metadata": {
    "collapsed": false,
    "deletable": true,
    "editable": true,
    "scrolled": false
   },
   "outputs": [],
   "source": [
    "workers = ['Writers']\n",
    "statistics = ['Latency']\n",
    "benchmarks = ['Read and write']\n",
    "\n",
    "def show_data(func):\n",
    "    for fixture, loaded_benchmarks in fixtures.items():\n",
    "        for benchmark in benchmarks:\n",
    "            data = loaded_benchmarks[benchmark]\n",
    "            for worker in workers:\n",
    "                for statistic in statistics:\n",
    "                    key_data = data[worker][statistic]\n",
    "                    if (key_data):\n",
    "                        title = \"{}\\n{}\\n{} - {}\".format(fixture, benchmark, worker, statistic)\n",
    "                        func(key_data, title=title)"
   ]
  },
  {
   "cell_type": "code",
   "execution_count": null,
   "metadata": {
    "collapsed": false,
    "scrolled": false
   },
   "outputs": [],
   "source": [
    "show_data(plot)"
   ]
  },
  {
   "cell_type": "code",
   "execution_count": null,
   "metadata": {
    "collapsed": false,
    "deletable": true,
    "editable": true,
    "scrolled": false
   },
   "outputs": [],
   "source": [
    "show_data(hist)"
   ]
  }
 ],
 "metadata": {
  "kernelspec": {
   "display_name": "Python 3",
   "language": "python",
   "name": "python3"
  },
  "language_info": {
   "codemirror_mode": {
    "name": "ipython",
    "version": 3
   },
   "file_extension": ".py",
   "mimetype": "text/x-python",
   "name": "python",
   "nbconvert_exporter": "python",
   "pygments_lexer": "ipython3",
   "version": "3.6.0"
  }
 },
 "nbformat": 4,
 "nbformat_minor": 2
}
