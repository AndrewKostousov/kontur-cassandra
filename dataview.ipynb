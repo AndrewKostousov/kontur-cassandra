{
 "cells": [
  {
   "cell_type": "code",
   "execution_count": null,
   "metadata": {
    "collapsed": false,
    "deletable": true,
    "editable": true
   },
   "outputs": [],
   "source": [
    "import numpy as np\n",
    "import matplotlib.pylab as plt\n",
    "\n",
    "%matplotlib inline\n",
    "\n",
    "benchmarks_data_dir = 'TimeSeries\\\\Benchmarks\\\\bin\\\\Debug\\\\Raw data'"
   ]
  },
  {
   "cell_type": "code",
   "execution_count": null,
   "metadata": {
    "collapsed": false
   },
   "outputs": [],
   "source": [
    "import os\n",
    "\n",
    "fixtures = os.listdir(benchmarks_data_dir)\n",
    "\n",
    "print(\"Found fixtures:\\n\" if fixtures else \"No fixtures were found\")\n",
    "\n",
    "for index, fixture in enumerate(fixtures):\n",
    "    print(\"{}). {}\".format(index, fixture))"
   ]
  },
  {
   "cell_type": "code",
   "execution_count": null,
   "metadata": {
    "collapsed": false
   },
   "outputs": [],
   "source": [
    "import json\n",
    "\n",
    "\n",
    "def load_json(path):\n",
    "    with open(path, 'r') as f:\n",
    "        return json.load(f)\n",
    "\n",
    "    \n",
    "def load(fixture):\n",
    "    fixture_dir = os.path.join(benchmarks_data_dir, fixture)\n",
    "    \n",
    "    get_filename = lambda x: os.path.splitext(x)[0]\n",
    "    load_data = lambda x: load_json(os.path.join(fixture_dir, x))\n",
    "    \n",
    "    return {\n",
    "        get_filename(benchmark): load_data(benchmark)        \n",
    "        for benchmark in os.listdir(fixture_dir)\n",
    "    }\n",
    "\n",
    "\n",
    "fixtures = {\n",
    "    fixture: load(fixture) for fixture in fixtures\n",
    "}\n",
    "\n",
    "print(\"Loaded data for {} fixtures with {} benchmarks\".format(len(fixtures), sum(len(x) for x in fixtures.values())))\n",
    "\n",
    "print(\"\\nFixtures are:\\n\")\n",
    "\n",
    "for fixture in fixtures.keys():\n",
    "    print(fixture)"
   ]
  },
  {
   "cell_type": "code",
   "execution_count": null,
   "metadata": {
    "collapsed": false
   },
   "outputs": [],
   "source": [
    "def fix_data(latency, operations):\n",
    "    \n",
    "    new_data = np.zeros((2, len(latency)), dtype=int)\n",
    "    new_latency = np.zeros((2, len(latency)), dtype=int)\n",
    "    \n",
    "    total_time = 0\n",
    "    total_count = 0\n",
    "    \n",
    "    for index, (time, count) in enumerate(zip(latency, operations)):\n",
    "        total_time += time\n",
    "        total_count += count\n",
    "        \n",
    "        new_data[0][index] = total_time\n",
    "        new_data[1][index] = total_count\n",
    "        \n",
    "        new_latency[0][index] = total_time - time\n",
    "        new_latency[1][index] = time\n",
    "        \n",
    "    return new_data, new_latency\n",
    "\n",
    "\n",
    "for fixture, benchmarks in fixtures.items():\n",
    "    for benchmark, data in benchmarks.items():\n",
    "        \n",
    "        writers_data = data['Writers']\n",
    "        \n",
    "        if not writers_data['Latency']: \n",
    "            continue\n",
    "            \n",
    "        writers_data['Total'] = []\n",
    "        writers_data['LatencyRescaled'] = []\n",
    "        \n",
    "        for worker in zip(writers_data['Latency'], writers_data['WritesLength']):\n",
    "            total, latency = fix_data(*worker)\n",
    "            writers_data['Total'].append(total)\n",
    "            writers_data['LatencyRescaled'].append(latency)"
   ]
  },
  {
   "cell_type": "code",
   "execution_count": null,
   "metadata": {
    "collapsed": false
   },
   "outputs": [],
   "source": [
    "b = ['Read and write', 'Write only']\n",
    "\n",
    "figure, subplots = plt.subplots(len(b), 1)\n",
    "\n",
    "figure.set_figheight(20)\n",
    "figure.set_figwidth(20)\n",
    "\n",
    "for benchmark, subplot in zip(b, subplots):\n",
    "    \n",
    "    legend = []\n",
    "\n",
    "    for fixture, benchmarks in fixtures.items():    \n",
    "        total = benchmarks[benchmark]['Writers']['Total']\n",
    "\n",
    "        if total:\n",
    "            worker = total[0]\n",
    "            subplot.plot(worker[0], worker[1])\n",
    "            legend.append(fixture)\n",
    "\n",
    "    subplot.set_title(benchmark, fontsize=20)\n",
    "    subplot.legend(legend)\n",
    "    subplot.axes.set_xlabel(\"Time\")\n",
    "    subplot.axes.set_ylabel(\"Events written\")"
   ]
  },
  {
   "cell_type": "code",
   "execution_count": null,
   "metadata": {
    "collapsed": false,
    "deletable": true,
    "editable": true
   },
   "outputs": [],
   "source": [
    "def plot(workers_stats, title=None, xlim=None):\n",
    "    \n",
    "    def __plot(subplt, worker):\n",
    "        if isinstance(worker, np.ndarray) and len(worker.shape) > 1:\n",
    "            subplt.plot(worker[0], worker[1])\n",
    "        else:\n",
    "            subplt.plot(worker)\n",
    "    \n",
    "    show(workers_stats, title, xlim, lambda p, w: __plot(p, w))\n",
    "\n",
    "\n",
    "def hist(workers_stats, title=None, xlim=None, nbeans=500):\n",
    "    \n",
    "    def __hist(subplt, worker):\n",
    "        if isinstance(worker, np.ndarray) and len(worker.shape) > 1:\n",
    "            subplt.hist(worker[1], nbeans)\n",
    "        else:\n",
    "            subplt.hist(worker, nbeans)\n",
    "    \n",
    "    show(workers_stats, title, xlim, lambda p, w: __hist(p, w))\n",
    "    \n",
    "\n",
    "def show(workers_stats, title, xlim, show_func):\n",
    "    figure, subplots = plt.subplots(len(workers_stats), 1)\n",
    "\n",
    "    figure.set_figheight(20)\n",
    "    figure.set_figwidth(20)\n",
    "    \n",
    "    if title:\n",
    "        figure.suptitle(title, fontsize=18, y=0.94)\n",
    "    \n",
    "    if not hasattr(workers_stats, '__iter__'):\n",
    "        workers_stats = [workers_stats]\n",
    "        \n",
    "    if not hasattr(subplots, '__iter__'):\n",
    "        subplots = [subplots]\n",
    "    \n",
    "    for index, (worker, plot) in enumerate(zip(workers_stats, subplots)):\n",
    "        show_func(plot, worker)\n",
    "        plot.legend([\"Worker #{}\".format(index)])\n",
    "        \n",
    "        if xlim:\n",
    "            plot.set_xlim(xlim)"
   ]
  },
  {
   "cell_type": "code",
   "execution_count": null,
   "metadata": {
    "collapsed": false,
    "deletable": true,
    "editable": true,
    "scrolled": false
   },
   "outputs": [],
   "source": [
    "workers = ['Writers']\n",
    "statistics = ['LatencyRescaled']\n",
    "benchmarks = ['Read and write']\n",
    "\n",
    "def show_data(func, **kwargs):\n",
    "    for fixture, loaded_benchmarks in fixtures.items():\n",
    "        for benchmark in benchmarks:\n",
    "            data = loaded_benchmarks[benchmark]\n",
    "            for worker in workers:\n",
    "                for statistic in statistics:\n",
    "                    key_data = data[worker][statistic]\n",
    "                    if (key_data):\n",
    "                        title = \"{}\\n{}\\n{} - {}\".format(fixture, benchmark, worker, statistic)                        \n",
    "                        func(key_data, title=title, **kwargs)"
   ]
  },
  {
   "cell_type": "code",
   "execution_count": null,
   "metadata": {
    "collapsed": false,
    "scrolled": false
   },
   "outputs": [],
   "source": [
    "show_data(plot)"
   ]
  },
  {
   "cell_type": "code",
   "execution_count": null,
   "metadata": {
    "collapsed": false,
    "deletable": true,
    "editable": true,
    "scrolled": false
   },
   "outputs": [],
   "source": [
    "show_data(hist, xlim=[0,200])"
   ]
  }
 ],
 "metadata": {
  "kernelspec": {
   "display_name": "Python 3",
   "language": "python",
   "name": "python3"
  },
  "language_info": {
   "codemirror_mode": {
    "name": "ipython",
    "version": 3
   },
   "file_extension": ".py",
   "mimetype": "text/x-python",
   "name": "python",
   "nbconvert_exporter": "python",
   "pygments_lexer": "ipython3",
   "version": "3.6.0"
  }
 },
 "nbformat": 4,
 "nbformat_minor": 2
}
