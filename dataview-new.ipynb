{
 "cells": [
  {
   "cell_type": "code",
   "execution_count": null,
   "metadata": {
    "collapsed": false,
    "deletable": true,
    "editable": true
   },
   "outputs": [],
   "source": [
    "import numpy as np\n",
    "import matplotlib.pylab as plt\n",
    "\n",
    "%matplotlib inline\n",
    "\n",
    "benchmarks_data_dir = 'TimeSeries\\\\Benchmarks\\\\bin\\\\Debug\\\\Raw data'"
   ]
  },
  {
   "cell_type": "code",
   "execution_count": null,
   "metadata": {
    "collapsed": false,
    "deletable": true,
    "editable": true,
    "scrolled": true
   },
   "outputs": [],
   "source": [
    "import os\n",
    "\n",
    "fixtures = os.listdir(benchmarks_data_dir)\n",
    "\n",
    "print(\"Found fixtures:\\n\" if fixtures else \"No fixtures were found\")\n",
    "\n",
    "for index, fixture in enumerate(fixtures):\n",
    "    print(\"{}). {}\".format(index, fixture))"
   ]
  },
  {
   "cell_type": "code",
   "execution_count": null,
   "metadata": {
    "collapsed": false,
    "deletable": true,
    "editable": true
   },
   "outputs": [],
   "source": [
    "import json\n",
    "\n",
    "\n",
    "class Payload(object):\n",
    "    def __init__(self, data):\n",
    "        assert isinstance(data, dict)\n",
    "        self.__dict__ = {k: self.build_object(v) for k, v in data.items()}\n",
    "        \n",
    "    def build_object(self, data):\n",
    "        if isinstance(data, dict):\n",
    "            return Payload(data)\n",
    "        \n",
    "        if isinstance(data, list):\n",
    "            return [self.build_object(x) for x in data]\n",
    "            \n",
    "        return data\n",
    "    \n",
    "    def __str__(self):\n",
    "        return \"{\\n\\t\" + \"\\n\\t\".join(\"{} {};\".format(type(v).__name__, k) for k, v in self.__dict__.items()) + \"\\n}\"\n",
    "    \n",
    "    def describe(self):\n",
    "        print(str(self))\n",
    "        \n",
    "    def __repr__(self):\n",
    "        return \"Payload\\n\" + str(self)\n",
    "    \n",
    "        \n",
    "def load_json(path):\n",
    "    \n",
    "    #print(path)\n",
    "    \n",
    "    with open(path, 'r') as f:\n",
    "        return Payload(json.load(f))\n",
    "\n",
    "\n",
    "def load(fixture):\n",
    "    fixture_dir = os.path.join(benchmarks_data_dir, fixture)\n",
    "    \n",
    "    get_filename = lambda x: os.path.splitext(x)[0]\n",
    "    load_data = lambda x: load_json(os.path.join(fixture_dir, x))\n",
    "    \n",
    "    return {\n",
    "        get_filename(benchmark): load_data(benchmark)\n",
    "        for benchmark in os.listdir(fixture_dir)\n",
    "    }\n",
    "\n",
    "\n",
    "fixtures = {\n",
    "    fixture: load(fixture) for fixture in fixtures\n",
    "}\n",
    "\n",
    "print(\"Loaded data for {} fixtures with {} benchmarks\".format(len(fixtures), sum(len(x) for x in fixtures.values())))\n",
    "\n",
    "print(\"\\nFixtures are:\\n\")\n",
    "\n",
    "for fixture in fixtures.keys():\n",
    "    print(fixture)"
   ]
  },
  {
   "cell_type": "code",
   "execution_count": null,
   "metadata": {
    "collapsed": false,
    "deletable": true,
    "editable": true
   },
   "outputs": [],
   "source": [
    "fixtures[\"SimpleTimeSeries\"][\"1 reader, 4 writers\"].Writers.describe()"
   ]
  },
  {
   "cell_type": "code",
   "execution_count": null,
   "metadata": {
    "collapsed": false,
    "deletable": true,
    "editable": true
   },
   "outputs": [],
   "source": [
    "figure, ax = plt.subplots(1, 1)\n",
    "\n",
    "figure.set_figheight(6)\n",
    "figure.set_figwidth(15)\n",
    "\n",
    "ax.set_xlabel(\"Time\")\n",
    "ax.set_ylabel(\"Writers Latency\")\n",
    "\n",
    "for index, (fixture_name, fixture) in enumerate(fixtures.items()):\n",
    "    benchmark = fixture[\"1 reader, 4 writers\"]\n",
    "\n",
    "    Ys = []\n",
    "    \n",
    "    for worker in benchmark.Writers.Measurements:\n",
    "        X = [x.StartMilliseconds for x in worker]\n",
    "        Y = [x.LatencyMilliseconds for x in worker]\n",
    "\n",
    "        X = [x - X[0] for x in X]\n",
    "        Ys = Ys + Y\n",
    "        \n",
    "        ax.plot(X, Y, \"C{}\".format(index))\n",
    "        \n",
    "    figure, ax2 = plt.subplots(1, 1)\n",
    "\n",
    "    figure.set_figheight(6)\n",
    "    figure.set_figwidth(15)\n",
    "        \n",
    "    Ys = [y for y in Ys if y < 200]\n",
    "        \n",
    "    ax2.hist(Ys, 50, color=\"C{}\".format(index))\n",
    "    ax2.legend([fixture_name])\n",
    "    ax2.set_xlabel(\"Writers Latency\")\n",
    "    ax2.set_ylabel(\"Operations Count\")\n",
    "        \n",
    "ax.legend(fixtures.keys())"
   ]
  },
  {
   "cell_type": "code",
   "execution_count": null,
   "metadata": {
    "collapsed": false,
    "deletable": true,
    "editable": true
   },
   "outputs": [],
   "source": [
    "figure, ax = plt.subplots(1, 1)\n",
    "\n",
    "figure.set_figheight(8)\n",
    "figure.set_figwidth(15)\n",
    "\n",
    "ax.set_xlabel(\"Time\")\n",
    "ax.set_ylabel(\"Writers Throughput\")\n",
    "\n",
    "for index, (fixture_name, fixture) in enumerate(fixtures.items()):\n",
    "    benchmark = fixture[\"1 reader, 4 writers\"]\n",
    "    ax.plot(benchmark.Writers.Throughput, \"C{}\".format(index))    \n",
    "    \n",
    "ax.legend(fixtures.keys())"
   ]
  },
  {
   "cell_type": "code",
   "execution_count": null,
   "metadata": {
    "collapsed": false,
    "deletable": true,
    "editable": true
   },
   "outputs": [],
   "source": [
    "for index, (fixture_name, fixture) in enumerate(fixtures.items()):\n",
    "    benchmark = fixture[\"1 reader, 4 writers\"]\n",
    "\n",
    "    Y = benchmark.Readers.WriteToReadLatency[0]\n",
    "    \n",
    "    figure, axs = plt.subplots(2, 1)\n",
    "\n",
    "    figure.set_figheight(10)\n",
    "    figure.set_figwidth(15)\n",
    "    \n",
    "    axs[0].plot(Y, color=\"C{}\".format(index))\n",
    "    axs[0].legend([fixture_name])\n",
    "    axs[0].set_xlabel(\"Time\")\n",
    "    axs[0].set_ylabel(\"End to End Latency\")\n",
    "    \n",
    "    axs[1].hist(Y, 50, color=\"C{}\".format(index))\n",
    "    axs[1].legend([fixture_name])\n",
    "    axs[1].set_xlabel(\"End to End Latency\")\n",
    "    axs[1].set_ylabel(\"Operations Count\")"
   ]
  },
  {
   "cell_type": "code",
   "execution_count": null,
   "metadata": {
    "collapsed": false,
    "deletable": true,
    "editable": true
   },
   "outputs": [],
   "source": [
    "figure, ax = plt.subplots(1, 1)\n",
    "\n",
    "figure.set_figheight(6)\n",
    "figure.set_figwidth(15)\n",
    "\n",
    "ax.set_xlabel(\"Writers Count\")\n",
    "ax.set_ylabel(\"Average Writers Latency\")\n",
    "\n",
    "for index, (fixture_name, fixture) in enumerate(fixtures.items()):\n",
    "\n",
    "    benchmarks = sorted(fixture.values(), key=lambda x: x.Writers.WorkersCount)\n",
    "    \n",
    "    X = [b.Writers.WorkersCount for b in benchmarks]\n",
    "    Y = [b.Writers.AverageLatency for b in benchmarks]\n",
    "\n",
    "    ax.plot(X, Y, \"C{}\".format(index))\n",
    "        \n",
    "ax.legend(fixtures.keys())"
   ]
  },
  {
   "cell_type": "code",
   "execution_count": null,
   "metadata": {
    "collapsed": false,
    "deletable": true,
    "editable": true
   },
   "outputs": [],
   "source": [
    "figure, ax = plt.subplots(1, 1)\n",
    "\n",
    "figure.set_figheight(5)\n",
    "figure.set_figwidth(15)\n",
    "\n",
    "ax.set_xlabel(\"Writers Count\")\n",
    "ax.set_ylabel(\"Average Writers Throughput\")\n",
    "\n",
    "for index, (fixture_name, fixture) in enumerate(fixtures.items()):\n",
    "\n",
    "    benchmarks = sorted(fixture.values(), key=lambda x: x.Writers.WorkersCount)\n",
    "    \n",
    "    X = [b.Writers.WorkersCount for b in benchmarks]\n",
    "    Y = [b.Writers.AverageThroughput for b in benchmarks]\n",
    "\n",
    "    ax.plot(X, Y, \"C{}\".format(index))\n",
    "        \n",
    "ax.legend(fixtures.keys())"
   ]
  },
  {
   "cell_type": "code",
   "execution_count": null,
   "metadata": {
    "collapsed": false,
    "deletable": true,
    "editable": true
   },
   "outputs": [],
   "source": [
    "figure, axs = plt.subplots(2, 1)\n",
    "\n",
    "figure.set_figheight(10)\n",
    "figure.set_figwidth(15)\n",
    "\n",
    "axs[0].set_xlabel(\"Writers Count\")\n",
    "axs[0].set_ylabel(\"End to End Latency\")\n",
    "\n",
    "axs[1].set_xlabel(\"Readers Count\")\n",
    "axs[1].set_ylabel(\"End to End Latency\")\n",
    "\n",
    "for index, (fixture_name, fixture) in enumerate(fixtures.items()):\n",
    "\n",
    "    rw_benchmarks = [x for x in fixture.values() if x.Readers.WorkersCount > 0 and x.Writers.WorkersCount > 0]\n",
    "    \n",
    "    benchmarks = sorted(rw_benchmarks, key=lambda x: x.Writers.WorkersCount)\n",
    "    \n",
    "    X = [b.Writers.WorkersCount for b in benchmarks]\n",
    "    Y = [b.Readers.AverageEndToEndLatency for b in benchmarks]\n",
    "\n",
    "    axs[0].plot(X, Y, \"C{}\".format(index))\n",
    "    \n",
    "    benchmarks = sorted(rw_benchmarks, key=lambda x: x.Readers.WorkersCount)\n",
    "    \n",
    "    X = [b.Readers.WorkersCount for b in benchmarks]\n",
    "    Y = [b.Readers.AverageEndToEndLatency for b in benchmarks]\n",
    "\n",
    "    axs[1].plot(X, Y, \"C{}\".format(index))\n",
    "\n",
    "\n",
    "axs[0].legend(fixtures.keys())\n",
    "axs[1].legend(fixtures.keys())"
   ]
  }
 ],
 "metadata": {
  "kernelspec": {
   "display_name": "Python 3",
   "language": "python",
   "name": "python3"
  },
  "language_info": {
   "codemirror_mode": {
    "name": "ipython",
    "version": 3
   },
   "file_extension": ".py",
   "mimetype": "text/x-python",
   "name": "python",
   "nbconvert_exporter": "python",
   "pygments_lexer": "ipython3",
   "version": "3.6.0"
  }
 },
 "nbformat": 4,
 "nbformat_minor": 2
}
